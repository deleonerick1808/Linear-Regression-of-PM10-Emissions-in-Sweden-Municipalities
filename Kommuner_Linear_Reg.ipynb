{
 "cells": [
  {
   "cell_type": "markdown",
   "id": "960493aa",
   "metadata": {},
   "source": [
    "Eric De Leon\n",
    "BERN02\n",
    "Exercise: Workflows and environments\n",
    "\n",
    "First step is to set up the operating system with import os, then import the pandas library. Once imported we need to load the kommuner.csv to the environment, if necessary change the directory so the file can be found. Once loaded we see the first five observations in the data and see the different variables."
   ]
  },
  {
   "cell_type": "code",
   "execution_count": 1,
   "id": "4a729522",
   "metadata": {},
   "outputs": [
    {
     "data": {
      "text/html": [
       "<div>\n",
       "<style scoped>\n",
       "    .dataframe tbody tr th:only-of-type {\n",
       "        vertical-align: middle;\n",
       "    }\n",
       "\n",
       "    .dataframe tbody tr th {\n",
       "        vertical-align: top;\n",
       "    }\n",
       "\n",
       "    .dataframe thead th {\n",
       "        text-align: right;\n",
       "    }\n",
       "</style>\n",
       "<table border=\"1\" class=\"dataframe\">\n",
       "  <thead>\n",
       "    <tr style=\"text-align: right;\">\n",
       "      <th></th>\n",
       "      <th>Kommun</th>\n",
       "      <th>County</th>\n",
       "      <th>Part</th>\n",
       "      <th>Coastal</th>\n",
       "      <th>Vehicles</th>\n",
       "      <th>Builton</th>\n",
       "      <th>Children</th>\n",
       "      <th>Seniors</th>\n",
       "      <th>Higheds</th>\n",
       "      <th>Income</th>\n",
       "      <th>GRP</th>\n",
       "      <th>PM10</th>\n",
       "    </tr>\n",
       "  </thead>\n",
       "  <tbody>\n",
       "    <tr>\n",
       "      <th>0</th>\n",
       "      <td>0114 Upplands Väsby</td>\n",
       "      <td>01 Stockholms län</td>\n",
       "      <td>2</td>\n",
       "      <td>0</td>\n",
       "      <td>535.6</td>\n",
       "      <td>34</td>\n",
       "      <td>19.0</td>\n",
       "      <td>16.7</td>\n",
       "      <td>16.6</td>\n",
       "      <td>299.1</td>\n",
       "      <td>339</td>\n",
       "      <td>1.6</td>\n",
       "    </tr>\n",
       "    <tr>\n",
       "      <th>1</th>\n",
       "      <td>0115 Vallentuna</td>\n",
       "      <td>01 Stockholms län</td>\n",
       "      <td>2</td>\n",
       "      <td>0</td>\n",
       "      <td>780.8</td>\n",
       "      <td>90</td>\n",
       "      <td>20.4</td>\n",
       "      <td>16.1</td>\n",
       "      <td>19.2</td>\n",
       "      <td>341.5</td>\n",
       "      <td>249</td>\n",
       "      <td>2.4</td>\n",
       "    </tr>\n",
       "    <tr>\n",
       "      <th>2</th>\n",
       "      <td>0117 Österåker</td>\n",
       "      <td>01 Stockholms län</td>\n",
       "      <td>2</td>\n",
       "      <td>1</td>\n",
       "      <td>707.7</td>\n",
       "      <td>108</td>\n",
       "      <td>19.2</td>\n",
       "      <td>18.5</td>\n",
       "      <td>18.6</td>\n",
       "      <td>342.5</td>\n",
       "      <td>227</td>\n",
       "      <td>2.3</td>\n",
       "    </tr>\n",
       "    <tr>\n",
       "      <th>3</th>\n",
       "      <td>0120 Värmdö</td>\n",
       "      <td>01 Stockholms län</td>\n",
       "      <td>2</td>\n",
       "      <td>1</td>\n",
       "      <td>684.7</td>\n",
       "      <td>182</td>\n",
       "      <td>19.3</td>\n",
       "      <td>17.8</td>\n",
       "      <td>18.2</td>\n",
       "      <td>340.5</td>\n",
       "      <td>265</td>\n",
       "      <td>2.9</td>\n",
       "    </tr>\n",
       "    <tr>\n",
       "      <th>4</th>\n",
       "      <td>0123 Järfälla</td>\n",
       "      <td>01 Stockholms län</td>\n",
       "      <td>2</td>\n",
       "      <td>0</td>\n",
       "      <td>485.1</td>\n",
       "      <td>23</td>\n",
       "      <td>19.0</td>\n",
       "      <td>16.4</td>\n",
       "      <td>19.3</td>\n",
       "      <td>301.4</td>\n",
       "      <td>343</td>\n",
       "      <td>1.6</td>\n",
       "    </tr>\n",
       "  </tbody>\n",
       "</table>\n",
       "</div>"
      ],
      "text/plain": [
       "                Kommun             County  Part  Coastal  Vehicles  Builton  \\\n",
       "0  0114 Upplands Väsby  01 Stockholms län     2        0     535.6       34   \n",
       "1      0115 Vallentuna  01 Stockholms län     2        0     780.8       90   \n",
       "2       0117 Österåker  01 Stockholms län     2        1     707.7      108   \n",
       "3          0120 Värmdö  01 Stockholms län     2        1     684.7      182   \n",
       "4        0123 Järfälla  01 Stockholms län     2        0     485.1       23   \n",
       "\n",
       "   Children  Seniors  Higheds  Income  GRP  PM10  \n",
       "0      19.0     16.7     16.6   299.1  339   1.6  \n",
       "1      20.4     16.1     19.2   341.5  249   2.4  \n",
       "2      19.2     18.5     18.6   342.5  227   2.3  \n",
       "3      19.3     17.8     18.2   340.5  265   2.9  \n",
       "4      19.0     16.4     19.3   301.4  343   1.6  "
      ]
     },
     "execution_count": 1,
     "metadata": {},
     "output_type": "execute_result"
    }
   ],
   "source": [
    "import os\n",
    "import pandas as pd\n",
    "os.chdir(\"C:/Users/deleo/Documents/R/BERN02 R\")\n",
    "kommuner_df = pd.read_csv('kommuner.csv', encoding='ISO-8859-1')\n",
    "kommuner_df.loc[0:4]"
   ]
  },
  {
   "cell_type": "markdown",
   "id": "997b9dff",
   "metadata": {},
   "source": [
    "In our dataframe, Kommun is the municipality number and name; County is county number and name; Part refers to part of Sweden: 1 = Götaland; 2 = Svealand; 3 = Norrland, Coastal = any sea area within its borders: 0 = Inland; 1 = Coastal; Vehicles is number of passenger cars, buses and trucks / 1000 inhabitants; Builton is area covered in buldings, roads, etc (= not nature), (hectares / 1000 inhabitants); Children is the percentage of people 0–14 year olds; Seniors is the percentage of people 65+ year olds; Higheds is percentage of people with at least 3 years of post-secondary; Income is median yearly income (1000 SEK); BRP is Gross Regional Product per capita (1000 SEK); PM10 is the yearly emission of PM10-particles (metric tonnes / 1000 inhabitants).\n",
    "\n",
    "We import matplotlib.pyplot so we can do the plots. We then plot PM10 vs Vehicles since it is possible Vehicles affect the PM10 emmissions."
   ]
  },
  {
   "cell_type": "code",
   "execution_count": 2,
   "id": "4bc4d89f",
   "metadata": {},
   "outputs": [
    {
     "data": {
      "image/png": "[encoded data removed]",
      "text/plain": [
       "<Figure size 432x288 with 1 Axes>"
      ]
     },
     "metadata": {
      "needs_background": "light"
     },
     "output_type": "display_data"
    }
   ],
   "source": [
    "import matplotlib.pyplot as plt\n",
    "plt.plot(kommuner_df[\"Vehicles\"], kommuner_df[\"PM10\"],'o')\n",
    "plt.title(\"PM10 vs Vehicles\")\n",
    "plt.xlabel(\"Vehicles\")\n",
    "plt.ylabel(\"PM10\")\n",
    "plt.show()\n"
   ]
  },
  {
   "cell_type": "markdown",
   "id": "123f86e3",
   "metadata": {},
   "source": [
    "After seeing the plot we fit a linear model using Vehicles as our only explanatory variable. To do the model we need to import the function ols from the statsmodels.formula.api package."
   ]
  },
  {
   "cell_type": "code",
   "execution_count": 3,
   "id": "fe918355",
   "metadata": {},
   "outputs": [
    {
     "name": "stdout",
     "output_type": "stream",
     "text": [
      "                            OLS Regression Results                            \n",
      "==============================================================================\n",
      "Dep. Variable:                   PM10   R-squared:                       0.312\n",
      "Model:                            OLS   Adj. R-squared:                  0.309\n",
      "Method:                 Least Squares   F-statistic:                     130.4\n",
      "Date:                Fri, 13 Sep 2024   Prob (F-statistic):           3.69e-25\n",
      "Time:                        18:29:50   Log-Likelihood:                -685.88\n",
      "No. Observations:                 290   AIC:                             1376.\n",
      "Df Residuals:                     288   BIC:                             1383.\n",
      "Df Model:                           1                                         \n",
      "Covariance Type:            nonrobust                                         \n",
      "==============================================================================\n",
      "                 coef    std err          t      P>|t|      [0.025      0.975]\n",
      "------------------------------------------------------------------------------\n",
      "Intercept     -0.6268      0.513     -1.222      0.223      -1.636       0.383\n",
      "Vehicles       0.0055      0.000     11.419      0.000       0.005       0.006\n",
      "==============================================================================\n",
      "Omnibus:                      363.382   Durbin-Watson:                   1.881\n",
      "Prob(Omnibus):                  0.000   Jarque-Bera (JB):            25421.452\n",
      "Skew:                           5.668   Prob(JB):                         0.00\n",
      "Kurtosis:                      47.445   Cond. No.                     3.62e+03\n",
      "==============================================================================\n",
      "\n",
      "Notes:\n",
      "[1] Standard Errors assume that the covariance matrix of the errors is correctly specified.\n",
      "[2] The condition number is large, 3.62e+03. This might indicate that there are\n",
      "strong multicollinearity or other numerical problems.\n"
     ]
    }
   ],
   "source": [
    "from statsmodels.formula.api import ols\n",
    "fit = ols('PM10~Vehicles', kommuner_df).fit()\n",
    "print(fit.summary())"
   ]
  },
  {
   "cell_type": "markdown",
   "id": "13c56806",
   "metadata": {},
   "source": [
    "After getting the results we then add Income as another explanatory variable and use OLS again to do the new model."
   ]
  },
  {
   "cell_type": "code",
   "execution_count": 4,
   "id": "8f28ab7c",
   "metadata": {},
   "outputs": [
    {
     "name": "stdout",
     "output_type": "stream",
     "text": [
      "                            OLS Regression Results                            \n",
      "==============================================================================\n",
      "Dep. Variable:                   PM10   R-squared:                       0.312\n",
      "Model:                            OLS   Adj. R-squared:                  0.307\n",
      "Method:                 Least Squares   F-statistic:                     64.98\n",
      "Date:                Fri, 13 Sep 2024   Prob (F-statistic):           5.30e-24\n",
      "Time:                        18:29:50   Log-Likelihood:                -685.88\n",
      "No. Observations:                 290   AIC:                             1378.\n",
      "Df Residuals:                     287   BIC:                             1389.\n",
      "Df Model:                           2                                         \n",
      "Covariance Type:            nonrobust                                         \n",
      "==============================================================================\n",
      "                 coef    std err          t      P>|t|      [0.025      0.975]\n",
      "------------------------------------------------------------------------------\n",
      "Intercept     -0.8587      2.261     -0.380      0.704      -5.309       3.591\n",
      "Vehicles       0.0055      0.001     10.408      0.000       0.004       0.007\n",
      "Income         0.0007      0.007      0.105      0.916      -0.013       0.014\n",
      "==============================================================================\n",
      "Omnibus:                      362.460   Durbin-Watson:                   1.880\n",
      "Prob(Omnibus):                  0.000   Jarque-Bera (JB):            25122.729\n",
      "Skew:                           5.646   Prob(JB):                         0.00\n",
      "Kurtosis:                      47.177   Cond. No.                     1.65e+04\n",
      "==============================================================================\n",
      "\n",
      "Notes:\n",
      "[1] Standard Errors assume that the covariance matrix of the errors is correctly specified.\n",
      "[2] The condition number is large, 1.65e+04. This might indicate that there are\n",
      "strong multicollinearity or other numerical problems.\n"
     ]
    }
   ],
   "source": [
    "fit = ols('PM10~Vehicles+Income', kommuner_df).fit()\n",
    "print(fit.summary())"
   ]
  },
  {
   "cell_type": "markdown",
   "id": "147bc46b",
   "metadata": {},
   "source": [
    "We then add GRP as another explanatory variable."
   ]
  },
  {
   "cell_type": "code",
   "execution_count": 5,
   "id": "e90c0395",
   "metadata": {},
   "outputs": [
    {
     "name": "stdout",
     "output_type": "stream",
     "text": [
      "                            OLS Regression Results                            \n",
      "==============================================================================\n",
      "Dep. Variable:                   PM10   R-squared:                       0.391\n",
      "Model:                            OLS   Adj. R-squared:                  0.384\n",
      "Method:                 Least Squares   F-statistic:                     61.15\n",
      "Date:                Fri, 13 Sep 2024   Prob (F-statistic):           1.42e-30\n",
      "Time:                        18:29:50   Log-Likelihood:                -668.18\n",
      "No. Observations:                 290   AIC:                             1344.\n",
      "Df Residuals:                     286   BIC:                             1359.\n",
      "Df Model:                           3                                         \n",
      "Covariance Type:            nonrobust                                         \n",
      "==============================================================================\n",
      "                 coef    std err          t      P>|t|      [0.025      0.975]\n",
      "------------------------------------------------------------------------------\n",
      "Intercept     -0.9596      2.131     -0.450      0.653      -5.154       3.235\n",
      "Vehicles       0.0053      0.000     10.672      0.000       0.004       0.006\n",
      "Income        -0.0043      0.006     -0.665      0.507      -0.017       0.008\n",
      "GRP            0.0044      0.001      6.094      0.000       0.003       0.006\n",
      "==============================================================================\n",
      "Omnibus:                      284.743   Durbin-Watson:                   1.896\n",
      "Prob(Omnibus):                  0.000   Jarque-Bera (JB):            10387.970\n",
      "Skew:                           3.952   Prob(JB):                         0.00\n",
      "Kurtosis:                      31.235   Cond. No.                     1.74e+04\n",
      "==============================================================================\n",
      "\n",
      "Notes:\n",
      "[1] Standard Errors assume that the covariance matrix of the errors is correctly specified.\n",
      "[2] The condition number is large, 1.74e+04. This might indicate that there are\n",
      "strong multicollinearity or other numerical problems.\n"
     ]
    }
   ],
   "source": [
    "fit = ols('PM10~Vehicles+Income+GRP', kommuner_df).fit()\n",
    "print(fit.summary())"
   ]
  },
  {
   "cell_type": "markdown",
   "id": "5d94211b",
   "metadata": {},
   "source": [
    "After analyzing the results of the three models, we conclude by the P-Value (P > |t|) that Income is not necessary for our model and then we check the model using Vehicles and GRP as explanatory variables."
   ]
  },
  {
   "cell_type": "code",
   "execution_count": 6,
   "id": "d1e76d9e",
   "metadata": {},
   "outputs": [
    {
     "name": "stdout",
     "output_type": "stream",
     "text": [
      "                            OLS Regression Results                            \n",
      "==============================================================================\n",
      "Dep. Variable:                   PM10   R-squared:                       0.390\n",
      "Model:                            OLS   Adj. R-squared:                  0.386\n",
      "Method:                 Least Squares   F-statistic:                     91.68\n",
      "Date:                Fri, 13 Sep 2024   Prob (F-statistic):           1.63e-31\n",
      "Time:                        18:29:50   Log-Likelihood:                -668.40\n",
      "No. Observations:                 290   AIC:                             1343.\n",
      "Df Residuals:                     287   BIC:                             1354.\n",
      "Df Model:                           2                                         \n",
      "Covariance Type:            nonrobust                                         \n",
      "==============================================================================\n",
      "                 coef    std err          t      P>|t|      [0.025      0.975]\n",
      "------------------------------------------------------------------------------\n",
      "Intercept     -2.3260      0.559     -4.160      0.000      -3.426      -1.226\n",
      "Vehicles       0.0054      0.000     12.076      0.000       0.005       0.006\n",
      "GRP            0.0043      0.001      6.064      0.000       0.003       0.006\n",
      "==============================================================================\n",
      "Omnibus:                      280.717   Durbin-Watson:                   1.882\n",
      "Prob(Omnibus):                  0.000   Jarque-Bera (JB):             9835.960\n",
      "Skew:                           3.878   Prob(JB):                         0.00\n",
      "Kurtosis:                      30.456   Cond. No.                     4.45e+03\n",
      "==============================================================================\n",
      "\n",
      "Notes:\n",
      "[1] Standard Errors assume that the covariance matrix of the errors is correctly specified.\n",
      "[2] The condition number is large, 4.45e+03. This might indicate that there are\n",
      "strong multicollinearity or other numerical problems.\n"
     ]
    }
   ],
   "source": [
    "fit = ols('PM10~Vehicles+GRP', kommuner_df).fit()\n",
    "print(fit.summary())"
   ]
  },
  {
   "cell_type": "markdown",
   "id": "b5a70e81",
   "metadata": {},
   "source": [
    "The workflow relates to the FAIR data principles in that it is findable because the workflow is on github, it is accessible because anyone can see it, it is interoperable in that anyone who has Python can run the codes if they have the libraries, it is reusable in that anyone can run the code and continue the linear regression model.\n",
    "\n",
    "Link to github reporsitory: https://github.com/deleonerick1808/Linear-Regression-of-PM10-Emissions-in-Sweden-Municipalities"
   ]
  }
 ],
 "metadata": {
  "kernelspec": {
   "display_name": "Python 3 (ipykernel)",
   "language": "python",
   "name": "python3"
  },
  "language_info": {
   "codemirror_mode": {
    "name": "ipython",
    "version": 3
   },
   "file_extension": ".py",
   "mimetype": "text/x-python",
   "name": "python",
   "nbconvert_exporter": "python",
   "pygments_lexer": "ipython3",
   "version": "3.9.7"
  }
 },
 "nbformat": 4,
 "nbformat_minor": 5
}
